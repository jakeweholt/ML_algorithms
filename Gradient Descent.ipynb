{
 "cells": [
  {
   "cell_type": "markdown",
   "metadata": {},
   "source": [
    "First, what is a gradient? Remember calc 3 :)\n",
    "\n",
    "$f(x,y) = x^2sin(y)\n",
    "$\n",
    "\n",
    "The gradient is an operator $\\nabla$ that acts on $f$ (takes $f$ as an argument), and returns a vector of the partial derivatives.\n",
    "\n",
    "$\n",
    "\\nabla f(x,y) = [\\frac{\\partial f}{\\partial x}, \\frac{\\partial f}{\\partial y}]\n",
    "$\n",
    "\n",
    "$\n",
    "\\frac{\\partial f}{\\partial x} = 2xsin(y)\n",
    "$\n",
    "\n",
    "$\n",
    "\\frac{\\partial f}{\\partial y} = x^2cos(y)\n",
    "$\n",
    "\n",
    "$\n",
    "\\nabla f(x,y) = [2xsin(y), x^2cos(y)]\n",
    "$\n",
    "\n",
    "The gradient is also the direction of quickest increase of the function."
   ]
  },
  {
   "cell_type": "code",
   "execution_count": 3,
   "metadata": {
    "ExecuteTime": {
     "end_time": "2020-02-20T16:28:37.284100Z",
     "start_time": "2020-02-20T16:28:37.280677Z"
    }
   },
   "outputs": [],
   "source": [
    "def sum_of_squares(v: list) -> float:\n",
    "    \"\"\"\n",
    "    Computes the sum of squares for a vector v\n",
    "    \"\"\"\n",
    "    return sum(v_i ** 2 for v_i in v)"
   ]
  },
  {
   "cell_type": "code",
   "execution_count": 87,
   "metadata": {
    "ExecuteTime": {
     "end_time": "2020-02-20T17:00:56.597978Z",
     "start_time": "2020-02-20T17:00:56.586557Z"
    }
   },
   "outputs": [],
   "source": [
    "import math\n",
    "def f(x):\n",
    "    return x**2\n",
    "\n",
    "def grad_f(f,x,h):\n",
    "    return (f(x+h) - f(x))/h"
   ]
  },
  {
   "cell_type": "code",
   "execution_count": 88,
   "metadata": {
    "ExecuteTime": {
     "end_time": "2020-02-20T17:00:57.283812Z",
     "start_time": "2020-02-20T17:00:57.275030Z"
    }
   },
   "outputs": [],
   "source": [
    "# X = np.arange(-1,1,0.01)\n",
    "# Y = np.arange(-1,1,0.01)\n",
    "# X, Y = np.meshgrid(X, Y)\n",
    "# f_v = np.vectorize(f)\n",
    "# Z = f_v(X,Y)"
   ]
  },
  {
   "cell_type": "code",
   "execution_count": 89,
   "metadata": {
    "ExecuteTime": {
     "end_time": "2020-02-20T17:00:57.639281Z",
     "start_time": "2020-02-20T17:00:57.627907Z"
    }
   },
   "outputs": [],
   "source": [
    "from mpl_toolkits.mplot3d import Axes3D\n",
    "import matplotlib.pyplot as plt\n",
    "from matplotlib import cm\n",
    "from matplotlib.ticker import LinearLocator, FormatStrFormatter\n",
    "import numpy as np"
   ]
  },
  {
   "cell_type": "code",
   "execution_count": 90,
   "metadata": {
    "ExecuteTime": {
     "end_time": "2020-02-20T17:00:58.020882Z",
     "start_time": "2020-02-20T17:00:58.010818Z"
    }
   },
   "outputs": [],
   "source": [
    "# fig = plt.figure()\n",
    "# ax = fig.gca(projection='3d')\n",
    "# surf = ax.plot_surface(X, Y, Z, cmap=cm.coolwarm,\n",
    "#                        linewidth=0, antialiased=False)\n",
    "\n",
    "# # for x_i,y_i,z_i in zip(x,y,z):\n",
    "# #     ax.scatter(x_i, y_i, z_i, color='r')"
   ]
  },
  {
   "cell_type": "code",
   "execution_count": 93,
   "metadata": {
    "ExecuteTime": {
     "end_time": "2020-02-20T17:01:11.856238Z",
     "start_time": "2020-02-20T17:01:11.848280Z"
    }
   },
   "outputs": [
    {
     "data": {
      "text/plain": [
       "19.999999949504854"
      ]
     },
     "execution_count": 93,
     "metadata": {},
     "output_type": "execute_result"
    }
   ],
   "source": [
    "\n",
    "grad_f(f, 10, 0.0000001)"
   ]
  },
  {
   "cell_type": "code",
   "execution_count": null,
   "metadata": {},
   "outputs": [],
   "source": []
  }
 ],
 "metadata": {
  "kernelspec": {
   "display_name": "myenv",
   "language": "python",
   "name": "myenv"
  },
  "language_info": {
   "codemirror_mode": {
    "name": "ipython",
    "version": 3
   },
   "file_extension": ".py",
   "mimetype": "text/x-python",
   "name": "python",
   "nbconvert_exporter": "python",
   "pygments_lexer": "ipython3",
   "version": "3.7.1"
  },
  "toc": {
   "colors": {
    "hover_highlight": "#DAA520",
    "navigate_num": "#000000",
    "navigate_text": "#333333",
    "running_highlight": "#FF0000",
    "selected_highlight": "#FFD700",
    "sidebar_border": "#EEEEEE",
    "wrapper_background": "#FFFFFF"
   },
   "moveMenuLeft": true,
   "nav_menu": {
    "height": "12px",
    "width": "252px"
   },
   "navigate_menu": true,
   "number_sections": true,
   "sideBar": true,
   "threshold": 4,
   "toc_cell": false,
   "toc_section_display": "block",
   "toc_window_display": false,
   "widenNotebook": false
  }
 },
 "nbformat": 4,
 "nbformat_minor": 2
}
