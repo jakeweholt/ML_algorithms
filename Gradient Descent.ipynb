{
 "cells": [
  {
   "cell_type": "markdown",
   "metadata": {},
   "source": [
    "First, what is a gradient? Remember calc 3 :)\n",
    "\n",
    "$f(x,y) = x^2sin(y)\n",
    "$\n",
    "\n",
    "The gradient is an operator $\\nabla$ that acts on $f$ (takes $f$ as an argument), and returns a vector of the partial derivatives.\n",
    "\n",
    "$\n",
    "\\nabla f(x,y) = [\\frac{\\partial f}{\\partial x}, \\frac{\\partial f}{\\partial y}]\n",
    "$\n",
    "\n",
    "$\n",
    "\\frac{\\partial f}{\\partial x} = 2xsin(y)\n",
    "$\n",
    "\n",
    "$\n",
    "\\frac{\\partial f}{\\partial y} = x^2cos(y)\n",
    "$\n",
    "\n",
    "$\n",
    "\\nabla f(x,y) = [2xsin(y), x^2cos(y)]\n",
    "$\n",
    "\n",
    "The gradient is also the direction of quickest increase of the function."
   ]
  },
  {
   "cell_type": "code",
   "execution_count": 31,
   "metadata": {
    "ExecuteTime": {
     "end_time": "2020-03-02T16:02:41.754829Z",
     "start_time": "2020-03-02T16:02:41.542514Z"
    }
   },
   "outputs": [],
   "source": [
    "import numpy as np\n",
    "import matplotlib.pyplot as plt"
   ]
  },
  {
   "cell_type": "code",
   "execution_count": 5,
   "metadata": {
    "ExecuteTime": {
     "end_time": "2020-03-02T15:57:05.534795Z",
     "start_time": "2020-03-02T15:57:05.531017Z"
    }
   },
   "outputs": [],
   "source": [
    "def sum_of_squares(v: list) -> float:\n",
    "    \"\"\"\n",
    "    Computes the sum of squares for a vector v\n",
    "    \"\"\"\n",
    "    return sum(v_i ** 2 for v_i in v)"
   ]
  },
  {
   "cell_type": "code",
   "execution_count": 22,
   "metadata": {
    "ExecuteTime": {
     "end_time": "2020-03-02T16:00:15.726055Z",
     "start_time": "2020-03-02T16:00:15.721129Z"
    }
   },
   "outputs": [],
   "source": [
    "import math\n",
    "def f(x):\n",
    "    return (np.power(x,3)*np.cos(x/2) + .5)*np.sqrt(4-np.power(x,2))\n",
    "#     return x**2\n",
    "\n",
    "def grad_f(f,x,h):\n",
    "    return (f(x+h) - f(x))/h"
   ]
  },
  {
   "cell_type": "markdown",
   "metadata": {},
   "source": [
    "### Estimating Gradients"
   ]
  },
  {
   "cell_type": "code",
   "execution_count": 23,
   "metadata": {
    "ExecuteTime": {
     "end_time": "2020-03-02T16:00:16.051601Z",
     "start_time": "2020-03-02T16:00:16.047650Z"
    }
   },
   "outputs": [],
   "source": [
    "def partial_difference_quotient(f, v, i, h):\n",
    "    w = np.array([v_j + (h if j == i else 0) for j, v_j in enumerate(v)])\n",
    "    return (f(w) - f(v)) / h"
   ]
  },
  {
   "cell_type": "code",
   "execution_count": 24,
   "metadata": {
    "ExecuteTime": {
     "end_time": "2020-03-02T16:00:16.385820Z",
     "start_time": "2020-03-02T16:00:16.382518Z"
    }
   },
   "outputs": [],
   "source": [
    "def estimate_gradient(f, v, h=0.001):\n",
    "    return [partial_difference_quotient(f, v, i, h) for i, _ in enumerate(v)]"
   ]
  },
  {
   "cell_type": "code",
   "execution_count": 48,
   "metadata": {
    "ExecuteTime": {
     "end_time": "2020-03-02T16:05:55.043550Z",
     "start_time": "2020-03-02T16:05:45.109158Z"
    }
   },
   "outputs": [],
   "source": [
    "v = np.arange(-1.8, 1.8, 0.001)\n",
    "grad_est = estimate_gradient(f, v)"
   ]
  },
  {
   "cell_type": "code",
   "execution_count": 49,
   "metadata": {
    "ExecuteTime": {
     "end_time": "2020-03-02T16:05:55.320094Z",
     "start_time": "2020-03-02T16:05:55.046141Z"
    }
   },
   "outputs": [
    {
     "data": {
      "text/plain": [
       "[<matplotlib.lines.Line2D at 0x117ee70b8>]"
      ]
     },
     "execution_count": 49,
     "metadata": {},
     "output_type": "execute_result"
    },
    {
     "data": {
      "image/png": "[encoded data removed]",
      "text/plain": [
       "<Figure size 432x288 with 1 Axes>"
      ]
     },
     "metadata": {
      "needs_background": "light"
     },
     "output_type": "display_data"
    }
   ],
   "source": [
    "plt.plot([f(x) for x in v])"
   ]
  },
  {
   "cell_type": "code",
   "execution_count": 50,
   "metadata": {
    "ExecuteTime": {
     "end_time": "2020-03-02T16:05:55.553420Z",
     "start_time": "2020-03-02T16:05:55.322873Z"
    },
    "scrolled": true
   },
   "outputs": [
    {
     "data": {
      "text/plain": [
       "[<matplotlib.lines.Line2D at 0x1181376d8>]"
      ]
     },
     "execution_count": 50,
     "metadata": {},
     "output_type": "execute_result"
    },
    {
     "data": {
      "image/png": "[encoded data removed]",
      "text/plain": [
       "<Figure size 432x288 with 1 Axes>"
      ]
     },
     "metadata": {
      "needs_background": "light"
     },
     "output_type": "display_data"
    }
   ],
   "source": [
    "plt.plot(sum([x for x in grad_est]))"
   ]
  },
  {
   "cell_type": "code",
   "execution_count": 51,
   "metadata": {
    "ExecuteTime": {
     "end_time": "2020-03-02T16:05:55.604504Z",
     "start_time": "2020-03-02T16:05:55.556516Z"
    }
   },
   "outputs": [
    {
     "data": {
      "text/plain": [
       "3.020980266108109"
      ]
     },
     "execution_count": 51,
     "metadata": {},
     "output_type": "execute_result"
    }
   ],
   "source": [
    "sum([f(x)*0.001 for x in v])"
   ]
  },
  {
   "cell_type": "markdown",
   "metadata": {
    "ExecuteTime": {
     "end_time": "2020-03-02T16:05:09.356237Z",
     "start_time": "2020-03-02T16:05:09.351471Z"
    }
   },
   "source": [
    "### Using the gradient"
   ]
  },
  {
   "cell_type": "code",
   "execution_count": 194,
   "metadata": {
    "ExecuteTime": {
     "end_time": "2020-03-02T16:26:53.524714Z",
     "start_time": "2020-03-02T16:26:53.516178Z"
    }
   },
   "outputs": [],
   "source": [
    "def step(v, direction, step_size):\n",
    "    out = []\n",
    "    for v_i, d_i in zip(v, direction):\n",
    "        out.append(v_i + step_size * d_i)\n",
    "    return out\n",
    "\n",
    "def sum_of_squares_gradient(v: list) -> list:\n",
    "    return [2*v_i for v_i in v]\n",
    "\n",
    "def distance(v1, v2):\n",
    "    return np.sqrt(sum([v1_i + v2_i for v1_i, v2_i in zip(v1,v2)]))\n",
    "\n",
    "v = np.random.randint(-10,10, 2)\n",
    "tolerance = 0.000001"
   ]
  },
  {
   "cell_type": "code",
   "execution_count": 195,
   "metadata": {
    "ExecuteTime": {
     "end_time": "2020-03-02T16:26:53.661987Z",
     "start_time": "2020-03-02T16:26:53.644242Z"
    }
   },
   "outputs": [],
   "source": [
    "step_x = []\n",
    "step_y = []\n",
    "while True:\n",
    "# for _ in range(1):\n",
    "    step_x.append(v[0])\n",
    "    step_y.append(v[1])\n",
    "    gradient = sum_of_squares_gradient(v)\n",
    "    next_v = step(v, gradient, -0.01)\n",
    "    if distance(next_v, v) < tolerance:\n",
    "        break\n",
    "    v = next_v\n",
    "    "
   ]
  },
  {
   "cell_type": "code",
   "execution_count": 196,
   "metadata": {
    "ExecuteTime": {
     "end_time": "2020-03-02T16:27:11.020956Z",
     "start_time": "2020-03-02T16:27:10.774225Z"
    }
   },
   "outputs": [
    {
     "data": {
      "text/plain": [
       "<matplotlib.collections.PathCollection at 0x10b093048>"
      ]
     },
     "execution_count": 196,
     "metadata": {},
     "output_type": "execute_result"
    },
    {
     "data": {
      "image/png": "[encoded data removed]",
      "text/plain": [
       "<Figure size 432x288 with 1 Axes>"
      ]
     },
     "metadata": {
      "needs_background": "light"
     },
     "output_type": "display_data"
    }
   ],
   "source": [
    "plt.scatter(x=step_x, y=step_y)"
   ]
  },
  {
   "cell_type": "code",
   "execution_count": null,
   "metadata": {},
   "outputs": [],
   "source": []
  }
 ],
 "metadata": {
  "kernelspec": {
   "display_name": "myenv",
   "language": "python",
   "name": "myenv"
  },
  "language_info": {
   "codemirror_mode": {
    "name": "ipython",
    "version": 3
   },
   "file_extension": ".py",
   "mimetype": "text/x-python",
   "name": "python",
   "nbconvert_exporter": "python",
   "pygments_lexer": "ipython3",
   "version": "3.7.1"
  },
  "toc": {
   "colors": {
    "hover_highlight": "#DAA520",
    "navigate_num": "#000000",
    "navigate_text": "#333333",
    "running_highlight": "#FF0000",
    "selected_highlight": "#FFD700",
    "sidebar_border": "#EEEEEE",
    "wrapper_background": "#FFFFFF"
   },
   "moveMenuLeft": true,
   "nav_menu": {
    "height": "12px",
    "width": "252px"
   },
   "navigate_menu": true,
   "number_sections": true,
   "sideBar": true,
   "threshold": 4,
   "toc_cell": false,
   "toc_section_display": "block",
   "toc_window_display": false,
   "widenNotebook": false
  }
 },
 "nbformat": 4,
 "nbformat_minor": 2
}
